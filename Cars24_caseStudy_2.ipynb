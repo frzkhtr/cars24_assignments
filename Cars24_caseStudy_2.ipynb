{
  "nbformat": 4,
  "nbformat_minor": 0,
  "metadata": {
    "colab": {
      "name": "Cars24_caseStudy_1.ipynb",
      "provenance": [],
      "collapsed_sections": []
    },
    "kernelspec": {
      "display_name": "Python 3",
      "name": "python3"
    },
    "language_info": {
      "name": "python"
    }
  },
  "cells": [
    {
      "cell_type": "code",
      "metadata": {
        "id": "2Owia6VM8CCz"
      },
      "source": [
        "import pandas as pd"
      ],
      "execution_count": 86,
      "outputs": []
    },
    {
      "cell_type": "markdown",
      "metadata": {
        "id": "dStLeVXS6Sty"
      },
      "source": [
        "Test Dataframe\n"
      ]
    },
    {
      "cell_type": "code",
      "metadata": {
        "colab": {
          "base_uri": "https://localhost:8080/",
          "height": 143
        },
        "id": "M-FoB3Ky8PCg",
        "outputId": "c4929bbf-b404-4c3c-af44-ffea623b5d72"
      },
      "source": [
        "a = {\n",
        "    'cust_id' : ['A123', 'A456', 'A789'],\n",
        "     'ticket_id': [12,23,45],\n",
        "     'first_cust_port' : ['Delhi', 'Delhi', 'Delhi'],\n",
        "     'last_cust_port' : ['Mumbai', 'Mumbai', 'Mumbai'],\n",
        "     'cust_start' : [815, 830, 845],\n",
        "     'cust_end': [1730, 1015, 1330]\n",
        "}\n",
        "cust_data = pd.DataFrame.from_dict(a)\n",
        "cust_data"
      ],
      "execution_count": 88,
      "outputs": [
        {
          "output_type": "execute_result",
          "data": {
            "text/html": [
              "<div>\n",
              "<style scoped>\n",
              "    .dataframe tbody tr th:only-of-type {\n",
              "        vertical-align: middle;\n",
              "    }\n",
              "\n",
              "    .dataframe tbody tr th {\n",
              "        vertical-align: top;\n",
              "    }\n",
              "\n",
              "    .dataframe thead th {\n",
              "        text-align: right;\n",
              "    }\n",
              "</style>\n",
              "<table border=\"1\" class=\"dataframe\">\n",
              "  <thead>\n",
              "    <tr style=\"text-align: right;\">\n",
              "      <th></th>\n",
              "      <th>cust_id</th>\n",
              "      <th>ticket_id</th>\n",
              "      <th>first_cust_port</th>\n",
              "      <th>last_cust_port</th>\n",
              "      <th>cust_start</th>\n",
              "      <th>cust_end</th>\n",
              "    </tr>\n",
              "  </thead>\n",
              "  <tbody>\n",
              "    <tr>\n",
              "      <th>0</th>\n",
              "      <td>A123</td>\n",
              "      <td>12</td>\n",
              "      <td>Delhi</td>\n",
              "      <td>Mumbai</td>\n",
              "      <td>815</td>\n",
              "      <td>1730</td>\n",
              "    </tr>\n",
              "    <tr>\n",
              "      <th>1</th>\n",
              "      <td>A456</td>\n",
              "      <td>23</td>\n",
              "      <td>Delhi</td>\n",
              "      <td>Mumbai</td>\n",
              "      <td>830</td>\n",
              "      <td>1015</td>\n",
              "    </tr>\n",
              "    <tr>\n",
              "      <th>2</th>\n",
              "      <td>A789</td>\n",
              "      <td>45</td>\n",
              "      <td>Delhi</td>\n",
              "      <td>Mumbai</td>\n",
              "      <td>845</td>\n",
              "      <td>1330</td>\n",
              "    </tr>\n",
              "  </tbody>\n",
              "</table>\n",
              "</div>"
            ],
            "text/plain": [
              "  cust_id  ticket_id first_cust_port last_cust_port  cust_start  cust_end\n",
              "0    A123         12           Delhi         Mumbai         815      1730\n",
              "1    A456         23           Delhi         Mumbai         830      1015\n",
              "2    A789         45           Delhi         Mumbai         845      1330"
            ]
          },
          "metadata": {},
          "execution_count": 88
        }
      ]
    },
    {
      "cell_type": "code",
      "metadata": {
        "colab": {
          "base_uri": "https://localhost:8080/",
          "height": 269
        },
        "id": "1Q-1Aw8t9ZUu",
        "outputId": "d05fa259-bf32-497f-9aac-7930cba31105"
      },
      "source": [
        "b = {\n",
        "    'flight_no': ['B99','B89','B79','B69','B59','B49','B39'],\n",
        "     'date' : [23,45,56,67,78,89,90],\n",
        "     'orig_port' : ['Delhi', 'Delhi', 'Jaipur', 'Delhi', 'Agra', 'Surat', 'Pune'],\n",
        "     'dest_port': ['Mumbai', 'Jaipur', 'Mumbai', 'Agra', 'Surat', 'Pune', 'Mumbai'],\n",
        "     'flight_start': [830, 840, 1130, 815, 1230, 1445, 1615],\n",
        "     'flight_end': [1015,1045,1330,1130, 1430,1530, 1730]\n",
        "}\n",
        "flight_data = pd.DataFrame.from_dict(b)\n",
        "flight_data"
      ],
      "execution_count": 89,
      "outputs": [
        {
          "output_type": "execute_result",
          "data": {
            "text/html": [
              "<div>\n",
              "<style scoped>\n",
              "    .dataframe tbody tr th:only-of-type {\n",
              "        vertical-align: middle;\n",
              "    }\n",
              "\n",
              "    .dataframe tbody tr th {\n",
              "        vertical-align: top;\n",
              "    }\n",
              "\n",
              "    .dataframe thead th {\n",
              "        text-align: right;\n",
              "    }\n",
              "</style>\n",
              "<table border=\"1\" class=\"dataframe\">\n",
              "  <thead>\n",
              "    <tr style=\"text-align: right;\">\n",
              "      <th></th>\n",
              "      <th>flight_no</th>\n",
              "      <th>date</th>\n",
              "      <th>orig_port</th>\n",
              "      <th>dest_port</th>\n",
              "      <th>flight_start</th>\n",
              "      <th>flight_end</th>\n",
              "    </tr>\n",
              "  </thead>\n",
              "  <tbody>\n",
              "    <tr>\n",
              "      <th>0</th>\n",
              "      <td>B99</td>\n",
              "      <td>23</td>\n",
              "      <td>Delhi</td>\n",
              "      <td>Mumbai</td>\n",
              "      <td>830</td>\n",
              "      <td>1015</td>\n",
              "    </tr>\n",
              "    <tr>\n",
              "      <th>1</th>\n",
              "      <td>B89</td>\n",
              "      <td>45</td>\n",
              "      <td>Delhi</td>\n",
              "      <td>Jaipur</td>\n",
              "      <td>840</td>\n",
              "      <td>1045</td>\n",
              "    </tr>\n",
              "    <tr>\n",
              "      <th>2</th>\n",
              "      <td>B79</td>\n",
              "      <td>56</td>\n",
              "      <td>Jaipur</td>\n",
              "      <td>Mumbai</td>\n",
              "      <td>1130</td>\n",
              "      <td>1330</td>\n",
              "    </tr>\n",
              "    <tr>\n",
              "      <th>3</th>\n",
              "      <td>B69</td>\n",
              "      <td>67</td>\n",
              "      <td>Delhi</td>\n",
              "      <td>Agra</td>\n",
              "      <td>815</td>\n",
              "      <td>1130</td>\n",
              "    </tr>\n",
              "    <tr>\n",
              "      <th>4</th>\n",
              "      <td>B59</td>\n",
              "      <td>78</td>\n",
              "      <td>Agra</td>\n",
              "      <td>Surat</td>\n",
              "      <td>1230</td>\n",
              "      <td>1430</td>\n",
              "    </tr>\n",
              "    <tr>\n",
              "      <th>5</th>\n",
              "      <td>B49</td>\n",
              "      <td>89</td>\n",
              "      <td>Surat</td>\n",
              "      <td>Pune</td>\n",
              "      <td>1445</td>\n",
              "      <td>1530</td>\n",
              "    </tr>\n",
              "    <tr>\n",
              "      <th>6</th>\n",
              "      <td>B39</td>\n",
              "      <td>90</td>\n",
              "      <td>Pune</td>\n",
              "      <td>Mumbai</td>\n",
              "      <td>1615</td>\n",
              "      <td>1730</td>\n",
              "    </tr>\n",
              "  </tbody>\n",
              "</table>\n",
              "</div>"
            ],
            "text/plain": [
              "  flight_no  date orig_port dest_port  flight_start  flight_end\n",
              "0       B99    23     Delhi    Mumbai           830        1015\n",
              "1       B89    45     Delhi    Jaipur           840        1045\n",
              "2       B79    56    Jaipur    Mumbai          1130        1330\n",
              "3       B69    67     Delhi      Agra           815        1130\n",
              "4       B59    78      Agra     Surat          1230        1430\n",
              "5       B49    89     Surat      Pune          1445        1530\n",
              "6       B39    90      Pune    Mumbai          1615        1730"
            ]
          },
          "metadata": {},
          "execution_count": 89
        }
      ]
    },
    {
      "cell_type": "code",
      "metadata": {
        "id": "mwo143OY_FcU"
      },
      "source": [
        "#function to extract flight details from ticket id and using this in recusrive function\n",
        "\n",
        "def show_connecting_flight(id, tid):\n",
        "  val = cust_data[cust_data['ticket_id'] == tid].values[0]\n",
        "  origin = val[2]\n",
        "  dest = val[3]\n",
        "  st = val[4]\n",
        "  et = val[5]\n",
        "  first = True\n",
        "  return flightno(origin, dest,st,et,first)"
      ],
      "execution_count": 90,
      "outputs": []
    },
    {
      "cell_type": "code",
      "metadata": {
        "id": "EGAJrp0rESY-"
      },
      "source": [
        "#Recursive function to get flight\n",
        "def flightno(origin, dest, st, et, first, flight = None):\n",
        "  #s_flight = none\n",
        "  if first:\n",
        "    first = False\n",
        "    flight = []\n",
        "    val = flight_data[(flight_data['flight_start'] == st) & (flight_data['orig_port'] == origin)].values[0]\n",
        "    s_flight = val[0]\n",
        "    if (val[3] == dest) & (val[5] == et):\n",
        "      flight.append(s_flight)\n",
        "      return flight\n",
        "    else:\n",
        "      flight.append(s_flight)\n",
        "      origin = val[3]\n",
        "      st = val[5]\n",
        "      flight = flightno(origin, dest, st, et,first, flight)\n",
        "      return flight\n",
        "\n",
        "  else:\n",
        "    val = flight_data[(flight_data['flight_start'] >= st) & (flight_data['orig_port'] == origin)].values\n",
        "    for i in val:\n",
        "      if i[5] > et:\n",
        "        return\n",
        "      elif (i[5] == et) & (i[3] == dest):\n",
        "        flight.append(i[0])\n",
        "        return flight\n",
        "      else:\n",
        "        flight.append(i[0])\n",
        "        origin = i[3]\n",
        "        st = i[5]\n",
        "        flight = flightno(origin, dest, st, et,first, flight)\n",
        "        return flight"
      ],
      "execution_count": 91,
      "outputs": []
    },
    {
      "cell_type": "code",
      "metadata": {
        "colab": {
          "base_uri": "https://localhost:8080/"
        },
        "id": "uAzEHS0t4Hfx",
        "outputId": "1c7d9781-a788-493f-a750-e8c46c2d7cbf"
      },
      "source": [
        "show_connecting_flight('A456', 23)"
      ],
      "execution_count": 92,
      "outputs": [
        {
          "output_type": "execute_result",
          "data": {
            "text/plain": [
              "['B99']"
            ]
          },
          "metadata": {},
          "execution_count": 92
        }
      ]
    },
    {
      "cell_type": "code",
      "metadata": {
        "id": "Xjr1mQ0pAqoi",
        "colab": {
          "base_uri": "https://localhost:8080/"
        },
        "outputId": "4dec57b1-4945-40a0-ec5a-29241531acb0"
      },
      "source": [
        "show_connecting_flight('A123', 12)"
      ],
      "execution_count": 93,
      "outputs": [
        {
          "output_type": "execute_result",
          "data": {
            "text/plain": [
              "['B69', 'B59', 'B49', 'B39']"
            ]
          },
          "metadata": {},
          "execution_count": 93
        }
      ]
    },
    {
      "cell_type": "code",
      "metadata": {
        "id": "3hONCacx8D8W"
      },
      "source": [
        ""
      ],
      "execution_count": null,
      "outputs": []
    }
  ]
}